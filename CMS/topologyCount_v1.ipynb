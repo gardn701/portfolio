{
 "cells": [
  {
   "cell_type": "code",
   "execution_count": 1,
   "metadata": {},
   "outputs": [
    {
     "name": "stdout",
     "output_type": "stream",
     "text": [
      "# of lines in:  elink-mapping-11-02-2020.tab\n",
      "804 \n",
      "\n",
      "Z-,1,0,0,HD.2,L,(753.48 0.00) \n",
      "Z-\n",
      " I:\t[(gI.0.2.0) -> {D:(0.0.0.0, 0.0.0.1, 0.0.0.2, 0.0.0.3, 0.0.0.4)  T:(0.1.0.0, 0.1.0.1, 0.1.0.2, 0.1.0.3, 0.1.0.4, 0.1.0.5, 0.1.0.6, 0.2.1.0)};(FI.0.3.0) -> {D:(0.0.0.5, 0.0.0.6, 1.0.1.0, 1.0.1.1)  T:(0.2.1.1, 0.2.1.2, 0.2.1.3, 0.2.1.4, 0.2.1.5, 0.2.1.6)};(FI.0.4.0) -> {D:(1.0.1.2, 1.0.1.3, 1.0.1.4)  T:(0.3.2.0, 0.3.2.1, 0.3.2.2, 0.3.2.3, 0.3.2.4)}] \n"
     ]
    }
   ],
   "source": [
    "filepath = 'elink-mapping-11-02-2020.tab'\n",
    "\n",
    "file=open(filepath,\"r\")\n",
    "data=file.readlines()\n",
    "\n",
    "#counts the lines in file and prints\n",
    "linecount=0\n",
    "for i in data:\n",
    "    if i:\n",
    "        linecount += 1\n",
    "print(\"# of lines in: \", filepath)\n",
    "print(linecount,\"\\n\")\n",
    "\n",
    "#just test printing variables\n",
    "#print(file)\n",
    "#print(data[2])\n",
    "\n",
    "#try to print full data prettier\n",
    "#for line in data:\n",
    "#    print(line, \"\\n\")\n",
    "    \n",
    "#strip removes white space from beginning and end of data, maybe not necessary?\n",
    "linesplit=data[1].strip().split('|')\n",
    "#taking variables from split.  0 is always blank, 1 is location and type, 2 is inner wagon, 3 is outer wagon\n",
    "[endcap, layer, cassette, mbIndex, mbType, organization, approxpos] = linesplit[1].split(',')\n",
    "innerwagon = linesplit[2]\n",
    "outerwagon = linesplit[3]\n",
    "\n",
    "\n",
    "#print(linesplit)\n",
    "#print(data[1])\n",
    "print(linesplit[1])\n",
    "print(endcap)\n",
    "print(innerwagon)"
   ]
  },
  {
   "cell_type": "code",
   "execution_count": 66,
   "metadata": {},
   "outputs": [
    {
     "data": {
      "text/plain": [
       "4"
      ]
     },
     "execution_count": 66,
     "metadata": {},
     "output_type": "execute_result"
    }
   ],
   "source": [
    "len(linesplit)"
   ]
  },
  {
   "cell_type": "code",
   "execution_count": null,
   "metadata": {},
   "outputs": [],
   "source": []
  }
 ],
 "metadata": {
  "kernelspec": {
   "display_name": "Python 3",
   "language": "python",
   "name": "python3"
  },
  "language_info": {
   "codemirror_mode": {
    "name": "ipython",
    "version": 3
   },
   "file_extension": ".py",
   "mimetype": "text/x-python",
   "name": "python",
   "nbconvert_exporter": "python",
   "pygments_lexer": "ipython3",
   "version": "3.8.8"
  }
 },
 "nbformat": 4,
 "nbformat_minor": 4
}
